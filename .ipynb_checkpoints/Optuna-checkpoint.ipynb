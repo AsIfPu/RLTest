{
 "cells": [
  {
   "cell_type": "code",
   "execution_count": 1,
   "id": "ed1f6ade",
   "metadata": {},
   "outputs": [],
   "source": [
    "from nes_py.wrappers import JoypadSpace\n",
    "import gym_super_mario_bros\n",
    "from gym_super_mario_bros.actions import SIMPLE_MOVEMENT\n",
    "import time\n",
    "from matplotlib import pyplot as plt\n",
    "from stable_baselines3.common.vec_env import DummyVecEnv, VecFrameStack\n",
    "from stable_baselines3 import PPO\n",
    "\n",
    "from gym.wrappers import GrayScaleObservation\n",
    "\n",
    "from stable_baselines3.common.monitor import Monitor\n",
    "from stable_baselines3.common.results_plotter import load_results, ts2xy\n",
    "import numpy as np\n",
    "import os\n",
    "from stable_baselines3.common.callbacks import BaseCallback\n",
    "\n",
    "import optuna\n",
    "\n",
    "from stable_baselines3.common.evaluation import evaluate_policy\n",
    "\n",
    "import os\n",
    "\n",
    "\n",
    "env = gym_super_mario_bros.make('SuperMarioBros-v0')\n",
    "env = JoypadSpace(env, SIMPLE_MOVEMENT)\n",
    "\n",
    "\n",
    "\n",
    "log_dir = './log_dir2/'\n",
    "os.makedirs(log_dir, exist_ok=True)\n",
    "\n",
    "env = Monitor(env, log_dir)\n",
    "\n",
    "env = GrayScaleObservation(env,keep_dim=True)\n",
    "env = DummyVecEnv([lambda: env])\n",
    "env = VecFrameStack(env,4,channels_order='last')"
   ]
  },
  {
   "cell_type": "code",
   "execution_count": 2,
   "id": "13d12430",
   "metadata": {},
   "outputs": [],
   "source": [
    "def optimize_ppo(trial): \n",
    "    return {\n",
    "        'n_steps':trial.suggest_int('n_steps', 2048, 8192),\n",
    "        'gamma':trial.suggest_loguniform('gamma', 0.8, 0.9999),\n",
    "        'learning_rate':trial.suggest_loguniform('learning_rate', 1e-5, 1e-4),\n",
    "        'clip_range':trial.suggest_uniform('clip_range', 0.1, 0.4),\n",
    "        'gae_lambda':trial.suggest_uniform('gae_lambda', 0.8, 0.99)\n",
    "    }\n",
    " "
   ]
  },
  {
   "cell_type": "code",
   "execution_count": 3,
   "id": "6ed9c649",
   "metadata": {},
   "outputs": [
    {
     "name": "stderr",
     "output_type": "stream",
     "text": [
      "\u001b[32m[I 2023-04-29 05:43:07,455]\u001b[0m A new study created in memory with name: no-name-88d4df54-daaf-49b6-a3c7-10ed6eaaf824\u001b[0m\n"
     ]
    }
   ],
   "source": [
    "def optimize_agent(trial):\n",
    "    \n",
    "    try:\n",
    "        env = gym_super_mario_bros.make('SuperMarioBros-v0')\n",
    "        env = JoypadSpace(env, SIMPLE_MOVEMENT)\n",
    "\n",
    "        log_dir = './log_dir2/'\n",
    "        os.makedirs(log_dir, exist_ok=True)\n",
    "\n",
    "        env = Monitor(env, log_dir)\n",
    "\n",
    "        env = GrayScaleObservation(env,keep_dim=True)\n",
    "        env = DummyVecEnv([lambda: env])\n",
    "        env = VecFrameStack(env,4,channels_order='last')\n",
    "\n",
    "    \n",
    "        model_params = optimize_ppo(trial) \n",
    "    \n",
    "\n",
    "        tensorboard_log = r'./logs/'\n",
    "        model = PPO(\"CnnPolicy\", env, verbose=0,tensorboard_log=tensorboard_log,**model_params)\n",
    "        model.learn(total_timesteps=1000)\n",
    "    \n",
    "        mean_reward, _ = evaluate_policy(model, env, n_eval_episodes=5)\n",
    "    \n",
    "    \n",
    "        env.close()\n",
    "    \n",
    "        model.save( r'./zz/aa')\n",
    "    \n",
    "        return mean_reward    \n",
    "\n",
    "    except Exception as e:\n",
    "        return -1000\n"
   ]
  },
  {
   "cell_type": "code",
   "execution_count": null,
   "id": "2102fdf7",
   "metadata": {},
   "outputs": [
    {
     "name": "stderr",
     "output_type": "stream",
     "text": [
      "\u001b[32m[I 2023-04-29 05:43:07,468]\u001b[0m A new study created in memory with name: no-name-1b26af8f-f685-414c-93df-a751df60fd72\u001b[0m\n",
      "C:\\Users\\71074\\AppData\\Local\\Temp\\ipykernel_22124\\4074828529.py:4: FutureWarning: suggest_loguniform has been deprecated in v3.0.0. This feature will be removed in v6.0.0. See https://github.com/optuna/optuna/releases/tag/v3.0.0. Use :func:`~optuna.trial.Trial.suggest_float` instead.\n",
      "  'gamma':trial.suggest_loguniform('gamma', 0.8, 0.9999),\n",
      "C:\\Users\\71074\\AppData\\Local\\Temp\\ipykernel_22124\\4074828529.py:5: FutureWarning: suggest_loguniform has been deprecated in v3.0.0. This feature will be removed in v6.0.0. See https://github.com/optuna/optuna/releases/tag/v3.0.0. Use :func:`~optuna.trial.Trial.suggest_float` instead.\n",
      "  'learning_rate':trial.suggest_loguniform('learning_rate', 1e-5, 1e-4),\n",
      "C:\\Users\\71074\\AppData\\Local\\Temp\\ipykernel_22124\\4074828529.py:6: FutureWarning: suggest_uniform has been deprecated in v3.0.0. This feature will be removed in v6.0.0. See https://github.com/optuna/optuna/releases/tag/v3.0.0. Use :func:`~optuna.trial.Trial.suggest_float` instead.\n",
      "  'clip_range':trial.suggest_uniform('clip_range', 0.1, 0.4),\n",
      "C:\\Users\\71074\\AppData\\Local\\Temp\\ipykernel_22124\\4074828529.py:7: FutureWarning: suggest_uniform has been deprecated in v3.0.0. This feature will be removed in v6.0.0. See https://github.com/optuna/optuna/releases/tag/v3.0.0. Use :func:`~optuna.trial.Trial.suggest_float` instead.\n",
      "  'gae_lambda':trial.suggest_uniform('gae_lambda', 0.8, 0.99)\n",
      "C:\\Users\\71074\\anaconda3\\envs\\jupyter\\lib\\site-packages\\stable_baselines3\\ppo\\ppo.py:148: UserWarning: You have specified a mini-batch size of 64, but because the `RolloutBuffer` is of size `n_steps * n_envs = 7198`, after every 112 untruncated mini-batches, there will be a truncated mini-batch of size 30\n",
      "We recommend using a `batch_size` that is a factor of `n_steps * n_envs`.\n",
      "Info: (n_steps=7198 and n_envs=1)\n",
      "  warnings.warn(\n",
      "C:\\Users\\71074\\anaconda3\\envs\\jupyter\\lib\\site-packages\\gym_super_mario_bros\\smb_env.py:148: RuntimeWarning: overflow encountered in scalar subtract\n",
      "  return (self.ram[0x86] - self.ram[0x071c]) % 256\n"
     ]
    }
   ],
   "source": [
    "study = optuna.create_study(direction='maximize')\n",
    "study.optimize(optimize_agent, n_trials=100)"
   ]
  },
  {
   "cell_type": "code",
   "execution_count": null,
   "id": "5ad6b9af",
   "metadata": {},
   "outputs": [],
   "source": []
  }
 ],
 "metadata": {
  "kernelspec": {
   "display_name": "Python 3 (ipykernel)",
   "language": "python",
   "name": "python3"
  },
  "language_info": {
   "codemirror_mode": {
    "name": "ipython",
    "version": 3
   },
   "file_extension": ".py",
   "mimetype": "text/x-python",
   "name": "python",
   "nbconvert_exporter": "python",
   "pygments_lexer": "ipython3",
   "version": "3.9.16"
  }
 },
 "nbformat": 4,
 "nbformat_minor": 5
}

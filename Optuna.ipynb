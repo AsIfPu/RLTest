{
 "cells": [
  {
   "cell_type": "code",
   "execution_count": 1,
   "id": "48179e5e",
   "metadata": {},
   "outputs": [
    {
     "data": {
      "text/plain": [
       "{'divide': 'warn', 'over': 'warn', 'under': 'ignore', 'invalid': 'warn'}"
      ]
     },
     "execution_count": 1,
     "metadata": {},
     "output_type": "execute_result"
    }
   ],
   "source": [
    "from nes_py.wrappers import JoypadSpace\n",
    "import gym_super_mario_bros\n",
    "from gym_super_mario_bros.actions import SIMPLE_MOVEMENT\n",
    "import time\n",
    "from matplotlib import pyplot as plt\n",
    "from stable_baselines3.common.vec_env import DummyVecEnv, VecFrameStack\n",
    "from stable_baselines3 import PPO\n",
    "\n",
    "from gym.wrappers import GrayScaleObservation\n",
    "\n",
    "from stable_baselines3.common.monitor import Monitor\n",
    "from stable_baselines3.common.results_plotter import load_results, ts2xy\n",
    "import numpy as np\n",
    "import os\n",
    "from stable_baselines3.common.callbacks import BaseCallback\n",
    "\n",
    "import optuna\n",
    "\n",
    "from stable_baselines3.common.evaluation import evaluate_policy\n",
    "\n",
    "import os\n",
    "\n",
    "np.seterr(over='ignore')"
   ]
  },
  {
   "cell_type": "code",
   "execution_count": 2,
   "id": "a411affb",
   "metadata": {},
   "outputs": [],
   "source": [
    "def optimize_ppo(trial): \n",
    "    return {\n",
    "        'n_steps':trial.suggest_int('n_steps', 2048, 8192),\n",
    "        'gamma':trial.suggest_float('gamma', 0.8, 0.9999),\n",
    "        'learning_rate':trial.suggest_float('learning_rate', 1e-5, 1e-4),\n",
    "        'clip_range':trial.suggest_float('clip_range', 0.1, 0.4),\n",
    "        'gae_lambda':trial.suggest_float('gae_lambda', 0.8, 0.99)\n",
    "    }\n",
    " "
   ]
  },
  {
   "cell_type": "code",
   "execution_count": 3,
   "id": "1dd658bc",
   "metadata": {},
   "outputs": [],
   "source": [
    "def optimize_agent(trial):\n",
    "    \n",
    "    try:\n",
    "        env = gym_super_mario_bros.make('SuperMarioBros-v0')\n",
    "        env = JoypadSpace(env, SIMPLE_MOVEMENT)\n",
    "\n",
    "        log_dir = './log_dir2/'\n",
    "        os.makedirs(log_dir, exist_ok=True)\n",
    "\n",
    "        env = Monitor(env, log_dir)\n",
    "\n",
    "        env = GrayScaleObservation(env,keep_dim=True)\n",
    "        env = DummyVecEnv([lambda: env])\n",
    "        env = VecFrameStack(env,4,channels_order='last')\n",
    "\n",
    "    \n",
    "        model_params = optimize_ppo(trial) \n",
    "    \n",
    "\n",
    "        tensorboard_log = r'./logs/'\n",
    "        model = PPO(\"CnnPolicy\", env, verbose=0,tensorboard_log=tensorboard_log,**model_params)\n",
    "        model.learn(total_timesteps=20000)\n",
    "    \n",
    "        mean_reward, _ = evaluate_policy(model, env,n_eval_episodes=5)\n",
    "    \n",
    "    \n",
    "        env.close()\n",
    "    \n",
    "        OPT_DIR  = r'./optuna_model/'\n",
    "        SAVE_PATH = os.path.join(OPT_DIR, 'trial_{}_model'.format(trial.number))\n",
    "        model.save(SAVE_PATH)\n",
    "    \n",
    "        return mean_reward    \n",
    "\n",
    "    except Exception as e:\n",
    "        print(e)\n",
    "        return -1000\n"
   ]
  },
  {
   "cell_type": "code",
   "execution_count": 4,
   "id": "8a5a379a",
   "metadata": {},
   "outputs": [
    {
     "name": "stderr",
     "output_type": "stream",
     "text": [
      "\u001b[32m[I 2023-05-01 04:01:16,250]\u001b[0m A new study created in memory with name: no-name-230999c6-4101-4633-8df9-584945aa77b6\u001b[0m\n",
      "C:\\Users\\71074\\anaconda3\\envs\\jupyter\\lib\\site-packages\\stable_baselines3\\ppo\\ppo.py:148: UserWarning: You have specified a mini-batch size of 64, but because the `RolloutBuffer` is of size `n_steps * n_envs = 8147`, after every 127 untruncated mini-batches, there will be a truncated mini-batch of size 19\n",
      "We recommend using a `batch_size` that is a factor of `n_steps * n_envs`.\n",
      "Info: (n_steps=8147 and n_envs=1)\n",
      "  warnings.warn(\n",
      "\u001b[32m[I 2023-05-01 04:40:59,416]\u001b[0m Trial 0 finished with value: 339.0 and parameters: {'n_steps': 8147, 'gamma': 0.872155364861793, 'learning_rate': 8.043634236309485e-05, 'clip_range': 0.2511295705204688, 'gae_lambda': 0.8821735723563577}. Best is trial 0 with value: 339.0.\u001b[0m\n",
      "C:\\Users\\71074\\anaconda3\\envs\\jupyter\\lib\\site-packages\\stable_baselines3\\ppo\\ppo.py:148: UserWarning: You have specified a mini-batch size of 64, but because the `RolloutBuffer` is of size `n_steps * n_envs = 8077`, after every 126 untruncated mini-batches, there will be a truncated mini-batch of size 13\n",
      "We recommend using a `batch_size` that is a factor of `n_steps * n_envs`.\n",
      "Info: (n_steps=8077 and n_envs=1)\n",
      "  warnings.warn(\n",
      "\u001b[32m[I 2023-05-01 05:19:58,729]\u001b[0m Trial 1 finished with value: 680.0 and parameters: {'n_steps': 8077, 'gamma': 0.8243481906657717, 'learning_rate': 2.487400548685807e-05, 'clip_range': 0.23854929028781088, 'gae_lambda': 0.8062800298047543}. Best is trial 1 with value: 680.0.\u001b[0m\n",
      "C:\\Users\\71074\\anaconda3\\envs\\jupyter\\lib\\site-packages\\stable_baselines3\\ppo\\ppo.py:148: UserWarning: You have specified a mini-batch size of 64, but because the `RolloutBuffer` is of size `n_steps * n_envs = 2695`, after every 42 untruncated mini-batches, there will be a truncated mini-batch of size 7\n",
      "We recommend using a `batch_size` that is a factor of `n_steps * n_envs`.\n",
      "Info: (n_steps=2695 and n_envs=1)\n",
      "  warnings.warn(\n",
      "\u001b[32m[I 2023-05-01 05:57:07,534]\u001b[0m Trial 2 finished with value: 737.0 and parameters: {'n_steps': 2695, 'gamma': 0.8524825058578248, 'learning_rate': 4.681460692769794e-05, 'clip_range': 0.34577453048267587, 'gae_lambda': 0.8610657123505804}. Best is trial 2 with value: 737.0.\u001b[0m\n",
      "C:\\Users\\71074\\anaconda3\\envs\\jupyter\\lib\\site-packages\\stable_baselines3\\ppo\\ppo.py:148: UserWarning: You have specified a mini-batch size of 64, but because the `RolloutBuffer` is of size `n_steps * n_envs = 3803`, after every 59 untruncated mini-batches, there will be a truncated mini-batch of size 27\n",
      "We recommend using a `batch_size` that is a factor of `n_steps * n_envs`.\n",
      "Info: (n_steps=3803 and n_envs=1)\n",
      "  warnings.warn(\n",
      "\u001b[32m[I 2023-05-01 06:34:08,551]\u001b[0m Trial 3 finished with value: 741.0 and parameters: {'n_steps': 3803, 'gamma': 0.827540622051044, 'learning_rate': 3.4646019184004306e-05, 'clip_range': 0.12150665598337843, 'gae_lambda': 0.8658173772209193}. Best is trial 3 with value: 741.0.\u001b[0m\n",
      "\u001b[32m[I 2023-05-01 07:09:29,292]\u001b[0m Trial 4 finished with value: 681.0 and parameters: {'n_steps': 3648, 'gamma': 0.857687402969189, 'learning_rate': 8.560706230555597e-05, 'clip_range': 0.29831367746983894, 'gae_lambda': 0.8158004373214285}. Best is trial 3 with value: 741.0.\u001b[0m\n",
      "C:\\Users\\71074\\anaconda3\\envs\\jupyter\\lib\\site-packages\\stable_baselines3\\ppo\\ppo.py:148: UserWarning: You have specified a mini-batch size of 64, but because the `RolloutBuffer` is of size `n_steps * n_envs = 4217`, after every 65 untruncated mini-batches, there will be a truncated mini-batch of size 57\n",
      "We recommend using a `batch_size` that is a factor of `n_steps * n_envs`.\n",
      "Info: (n_steps=4217 and n_envs=1)\n",
      "  warnings.warn(\n",
      "\u001b[32m[I 2023-05-01 07:42:32,571]\u001b[0m Trial 5 finished with value: 680.0 and parameters: {'n_steps': 4217, 'gamma': 0.9286304596893191, 'learning_rate': 8.95867344845339e-05, 'clip_range': 0.2716404586013358, 'gae_lambda': 0.9670801713118329}. Best is trial 3 with value: 741.0.\u001b[0m\n",
      "C:\\Users\\71074\\anaconda3\\envs\\jupyter\\lib\\site-packages\\stable_baselines3\\ppo\\ppo.py:148: UserWarning: You have specified a mini-batch size of 64, but because the `RolloutBuffer` is of size `n_steps * n_envs = 6224`, after every 97 untruncated mini-batches, there will be a truncated mini-batch of size 16\n",
      "We recommend using a `batch_size` that is a factor of `n_steps * n_envs`.\n",
      "Info: (n_steps=6224 and n_envs=1)\n",
      "  warnings.warn(\n",
      "\u001b[32m[I 2023-05-01 16:08:43,546]\u001b[0m Trial 6 finished with value: 680.0 and parameters: {'n_steps': 6224, 'gamma': 0.9320103788608569, 'learning_rate': 1.1326493156417907e-05, 'clip_range': 0.22925660413665933, 'gae_lambda': 0.8819697885213622}. Best is trial 3 with value: 741.0.\u001b[0m\n",
      "C:\\Users\\71074\\anaconda3\\envs\\jupyter\\lib\\site-packages\\stable_baselines3\\ppo\\ppo.py:148: UserWarning: You have specified a mini-batch size of 64, but because the `RolloutBuffer` is of size `n_steps * n_envs = 7501`, after every 117 untruncated mini-batches, there will be a truncated mini-batch of size 13\n",
      "We recommend using a `batch_size` that is a factor of `n_steps * n_envs`.\n",
      "Info: (n_steps=7501 and n_envs=1)\n",
      "  warnings.warn(\n",
      "\u001b[32m[I 2023-05-01 16:48:14,669]\u001b[0m Trial 7 finished with value: 387.0 and parameters: {'n_steps': 7501, 'gamma': 0.9445487892303, 'learning_rate': 1.646387524491214e-05, 'clip_range': 0.11437946189564155, 'gae_lambda': 0.8593722181082641}. Best is trial 3 with value: 741.0.\u001b[0m\n",
      "C:\\Users\\71074\\anaconda3\\envs\\jupyter\\lib\\site-packages\\stable_baselines3\\ppo\\ppo.py:148: UserWarning: You have specified a mini-batch size of 64, but because the `RolloutBuffer` is of size `n_steps * n_envs = 3925`, after every 61 untruncated mini-batches, there will be a truncated mini-batch of size 21\n",
      "We recommend using a `batch_size` that is a factor of `n_steps * n_envs`.\n",
      "Info: (n_steps=3925 and n_envs=1)\n",
      "  warnings.warn(\n",
      "\u001b[32m[I 2023-05-01 17:29:14,896]\u001b[0m Trial 8 finished with value: 680.0 and parameters: {'n_steps': 3925, 'gamma': 0.9371697668494957, 'learning_rate': 4.61771105749372e-05, 'clip_range': 0.2122113519983258, 'gae_lambda': 0.8891730184571227}. Best is trial 3 with value: 741.0.\u001b[0m\n",
      "C:\\Users\\71074\\anaconda3\\envs\\jupyter\\lib\\site-packages\\stable_baselines3\\ppo\\ppo.py:148: UserWarning: You have specified a mini-batch size of 64, but because the `RolloutBuffer` is of size `n_steps * n_envs = 2306`, after every 36 untruncated mini-batches, there will be a truncated mini-batch of size 2\n",
      "We recommend using a `batch_size` that is a factor of `n_steps * n_envs`.\n",
      "Info: (n_steps=2306 and n_envs=1)\n",
      "  warnings.warn(\n",
      "\u001b[32m[I 2023-05-01 18:26:51,058]\u001b[0m Trial 9 finished with value: -1111.0 and parameters: {'n_steps': 2306, 'gamma': 0.9027402008272993, 'learning_rate': 5.0812372570571786e-05, 'clip_range': 0.39264181675246035, 'gae_lambda': 0.8517874571134442}. Best is trial 3 with value: 741.0.\u001b[0m\n",
      "C:\\Users\\71074\\anaconda3\\envs\\jupyter\\lib\\site-packages\\stable_baselines3\\ppo\\ppo.py:148: UserWarning: You have specified a mini-batch size of 64, but because the `RolloutBuffer` is of size `n_steps * n_envs = 5402`, after every 84 untruncated mini-batches, there will be a truncated mini-batch of size 26\n",
      "We recommend using a `batch_size` that is a factor of `n_steps * n_envs`.\n",
      "Info: (n_steps=5402 and n_envs=1)\n",
      "  warnings.warn(\n",
      "\u001b[32m[I 2023-05-01 19:04:31,898]\u001b[0m Trial 10 finished with value: 680.0 and parameters: {'n_steps': 5402, 'gamma': 0.8033893928928438, 'learning_rate': 3.2522875607543236e-05, 'clip_range': 0.10182986769811381, 'gae_lambda': 0.9334598578179321}. Best is trial 3 with value: 741.0.\u001b[0m\n",
      "C:\\Users\\71074\\anaconda3\\envs\\jupyter\\lib\\site-packages\\stable_baselines3\\ppo\\ppo.py:148: UserWarning: You have specified a mini-batch size of 64, but because the `RolloutBuffer` is of size `n_steps * n_envs = 2074`, after every 32 untruncated mini-batches, there will be a truncated mini-batch of size 26\n",
      "We recommend using a `batch_size` that is a factor of `n_steps * n_envs`.\n",
      "Info: (n_steps=2074 and n_envs=1)\n",
      "  warnings.warn(\n",
      "\u001b[32m[I 2023-05-01 19:41:16,560]\u001b[0m Trial 11 finished with value: 680.0 and parameters: {'n_steps': 2074, 'gamma': 0.9900948965992649, 'learning_rate': 4.231225549055387e-05, 'clip_range': 0.15473183458129697, 'gae_lambda': 0.9197601315254679}. Best is trial 3 with value: 741.0.\u001b[0m\n"
     ]
    },
    {
     "name": "stderr",
     "output_type": "stream",
     "text": [
      "C:\\Users\\71074\\anaconda3\\envs\\jupyter\\lib\\site-packages\\stable_baselines3\\ppo\\ppo.py:148: UserWarning: You have specified a mini-batch size of 64, but because the `RolloutBuffer` is of size `n_steps * n_envs = 3261`, after every 50 untruncated mini-batches, there will be a truncated mini-batch of size 61\n",
      "We recommend using a `batch_size` that is a factor of `n_steps * n_envs`.\n",
      "Info: (n_steps=3261 and n_envs=1)\n",
      "  warnings.warn(\n",
      "\u001b[32m[I 2023-05-01 20:42:19,444]\u001b[0m Trial 12 finished with value: 402.0 and parameters: {'n_steps': 3261, 'gamma': 0.840455367604498, 'learning_rate': 6.350820438706596e-05, 'clip_range': 0.3232337540093627, 'gae_lambda': 0.8423259048916356}. Best is trial 3 with value: 741.0.\u001b[0m\n",
      "C:\\Users\\71074\\anaconda3\\envs\\jupyter\\lib\\site-packages\\stable_baselines3\\ppo\\ppo.py:148: UserWarning: You have specified a mini-batch size of 64, but because the `RolloutBuffer` is of size `n_steps * n_envs = 2966`, after every 46 untruncated mini-batches, there will be a truncated mini-batch of size 22\n",
      "We recommend using a `batch_size` that is a factor of `n_steps * n_envs`.\n",
      "Info: (n_steps=2966 and n_envs=1)\n",
      "  warnings.warn(\n",
      "\u001b[32m[I 2023-05-01 21:34:06,274]\u001b[0m Trial 13 finished with value: 742.0 and parameters: {'n_steps': 2966, 'gamma': 0.8028237431779085, 'learning_rate': 6.23676101553937e-05, 'clip_range': 0.18300936299542525, 'gae_lambda': 0.8375544225396828}. Best is trial 13 with value: 742.0.\u001b[0m\n",
      "C:\\Users\\71074\\anaconda3\\envs\\jupyter\\lib\\site-packages\\stable_baselines3\\ppo\\ppo.py:148: UserWarning: You have specified a mini-batch size of 64, but because the `RolloutBuffer` is of size `n_steps * n_envs = 4879`, after every 76 untruncated mini-batches, there will be a truncated mini-batch of size 15\n",
      "We recommend using a `batch_size` that is a factor of `n_steps * n_envs`.\n",
      "Info: (n_steps=4879 and n_envs=1)\n",
      "  warnings.warn(\n",
      "\u001b[32m[I 2023-05-01 22:15:43,788]\u001b[0m Trial 14 finished with value: 720.0 and parameters: {'n_steps': 4879, 'gamma': 0.8015774670670072, 'learning_rate': 6.445468522843495e-05, 'clip_range': 0.17512251756251906, 'gae_lambda': 0.8265390237025565}. Best is trial 13 with value: 742.0.\u001b[0m\n"
     ]
    }
   ],
   "source": [
    "study = optuna.create_study(direction='maximize')\n",
    "study.optimize(optimize_agent, n_trials=15)"
   ]
  },
  {
   "cell_type": "code",
   "execution_count": 5,
   "id": "bd079480",
   "metadata": {},
   "outputs": [
    {
     "data": {
      "text/plain": [
       "['__class__',\n",
       " '__delattr__',\n",
       " '__dict__',\n",
       " '__dir__',\n",
       " '__doc__',\n",
       " '__eq__',\n",
       " '__format__',\n",
       " '__ge__',\n",
       " '__getattribute__',\n",
       " '__getstate__',\n",
       " '__gt__',\n",
       " '__hash__',\n",
       " '__init__',\n",
       " '__init_subclass__',\n",
       " '__le__',\n",
       " '__lt__',\n",
       " '__module__',\n",
       " '__ne__',\n",
       " '__new__',\n",
       " '__reduce__',\n",
       " '__reduce_ex__',\n",
       " '__repr__',\n",
       " '__setattr__',\n",
       " '__setstate__',\n",
       " '__sizeof__',\n",
       " '__str__',\n",
       " '__subclasshook__',\n",
       " '__weakref__',\n",
       " '_ask',\n",
       " '_directions',\n",
       " '_is_multi_objective',\n",
       " '_log_completed_trial',\n",
       " '_pop_waiting_trial_id',\n",
       " '_should_skip_enqueue',\n",
       " '_stop_flag',\n",
       " '_storage',\n",
       " '_study_id',\n",
       " '_tell',\n",
       " '_thread_local',\n",
       " 'add_trial',\n",
       " 'add_trials',\n",
       " 'ask',\n",
       " 'best_params',\n",
       " 'best_trial',\n",
       " 'best_trials',\n",
       " 'best_value',\n",
       " 'direction',\n",
       " 'directions',\n",
       " 'enqueue_trial',\n",
       " 'get_trials',\n",
       " 'optimize',\n",
       " 'pruner',\n",
       " 'sampler',\n",
       " 'set_system_attr',\n",
       " 'set_user_attr',\n",
       " 'stop',\n",
       " 'study_name',\n",
       " 'system_attrs',\n",
       " 'tell',\n",
       " 'trials',\n",
       " 'trials_dataframe',\n",
       " 'user_attrs']"
      ]
     },
     "execution_count": 5,
     "metadata": {},
     "output_type": "execute_result"
    }
   ],
   "source": [
    "dir(study)"
   ]
  },
  {
   "cell_type": "code",
   "execution_count": 6,
   "id": "747a9dff",
   "metadata": {},
   "outputs": [
    {
     "data": {
      "text/plain": [
       "{'n_steps': 2966,\n",
       " 'gamma': 0.8028237431779085,\n",
       " 'learning_rate': 6.23676101553937e-05,\n",
       " 'clip_range': 0.18300936299542525,\n",
       " 'gae_lambda': 0.8375544225396828}"
      ]
     },
     "execution_count": 6,
     "metadata": {},
     "output_type": "execute_result"
    }
   ],
   "source": [
    "study.best_params"
   ]
  },
  {
   "cell_type": "code",
   "execution_count": 7,
   "id": "7c094554",
   "metadata": {},
   "outputs": [
    {
     "data": {
      "text/plain": [
       "FrozenTrial(number=13, state=TrialState.COMPLETE, values=[742.0], datetime_start=datetime.datetime(2023, 5, 1, 20, 42, 19, 446491), datetime_complete=datetime.datetime(2023, 5, 1, 21, 34, 6, 273542), params={'n_steps': 2966, 'gamma': 0.8028237431779085, 'learning_rate': 6.23676101553937e-05, 'clip_range': 0.18300936299542525, 'gae_lambda': 0.8375544225396828}, user_attrs={}, system_attrs={}, intermediate_values={}, distributions={'n_steps': IntDistribution(high=8192, log=False, low=2048, step=1), 'gamma': FloatDistribution(high=0.9999, log=False, low=0.8, step=None), 'learning_rate': FloatDistribution(high=0.0001, log=False, low=1e-05, step=None), 'clip_range': FloatDistribution(high=0.4, log=False, low=0.1, step=None), 'gae_lambda': FloatDistribution(high=0.99, log=False, low=0.8, step=None)}, trial_id=13, value=None)"
      ]
     },
     "execution_count": 7,
     "metadata": {},
     "output_type": "execute_result"
    }
   ],
   "source": [
    "study.best_trial"
   ]
  },
  {
   "cell_type": "code",
   "execution_count": null,
   "id": "cb178775",
   "metadata": {},
   "outputs": [],
   "source": []
  }
 ],
 "metadata": {
  "kernelspec": {
   "display_name": "Python 3 (ipykernel)",
   "language": "python",
   "name": "python3"
  },
  "language_info": {
   "codemirror_mode": {
    "name": "ipython",
    "version": 3
   },
   "file_extension": ".py",
   "mimetype": "text/x-python",
   "name": "python",
   "nbconvert_exporter": "python",
   "pygments_lexer": "ipython3",
   "version": "3.9.16"
  }
 },
 "nbformat": 4,
 "nbformat_minor": 5
}
